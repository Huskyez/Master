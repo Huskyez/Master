{
 "cells": [
  {
   "cell_type": "markdown",
   "metadata": {
    "colab_type": "text",
    "id": "SpMUcDWddMBu"
   },
   "source": [
    "# Practical Machine Learning\n",
    "# Lab 3"
   ]
  },
  {
   "cell_type": "markdown",
   "metadata": {
    "colab_type": "text",
    "id": "NhgZU6h0dMBw"
   },
   "source": [
    "## Bag of words. Data normalization. KRR."
   ]
  },
  {
   "cell_type": "markdown",
   "metadata": {
    "colab_type": "text",
    "id": "_kzQ7CEodMBx"
   },
   "source": [
    "### Bag of words\n",
    "The bag of words method is used to represent text data. It is based on the occurrences of the words in the text.\n",
    "The method works as follows:\n",
    "    - compute a vocabulary by giving an unique id to each word in the training set.\n",
    "    - represent each training/testing example as a vector of the same length as the vocabulary, the vector is built in the following way:\n",
    "        feature[word_idx] = the number of occurrences of the word that has the id 'word_idx' in the example."
   ]
  },
  {
   "cell_type": "markdown",
   "metadata": {
    "colab_type": "text",
    "id": "aCchNnQ2dMBy"
   },
   "source": [
    "### Data normalization using the scikit-learn library.\n",
    "There are two common forms of data preprocessing (normalization) a matrix $X$ of size [$N X D$], where $N$ is the number of data and $D$ is their dimensionality:\n",
    "    - Standard scaling\n",
    "    - L1, L2 scaling."
   ]
  },
  {
   "cell_type": "markdown",
   "metadata": {
    "colab_type": "text",
    "id": "Zlu5jWJ7dMBz"
   },
   "source": [
    "#### Standard scaling\n",
    "\n",
    "It substract the mean across every individual $feature$ in the data, and has the geometric interpretation of centering the data around the origin (0, 0,..., 0) along every dimension. Then, it divides each dimension by its standard deviation.\n",
    "We want the $features$ to have equal $scales$ to be of approximately $equal$ $importance$ to the $learning$ $algorithm$. \n",
    "\n",
    "![scaling.png](attachment:scaling.png)\n",
    "__Left__: Original data, 2-dimensional input data. __Middle__: The data is zero-centered by subtracting the mean in each dimension. The data cloud is centered around the origin. __Right__: Each dimension is additionally scaled by its standard deviation. The red line indicate the extent of the data - they are of unequal length in the middle, but of equal length on the right."
   ]
  },
  {
   "cell_type": "code",
   "execution_count": null,
   "metadata": {
    "colab": {},
    "colab_type": "code",
    "id": "F3CBFAzrdMB0",
    "outputId": "40d33463-1443-46fb-f8d5-f3fb8f2464cb"
   },
   "outputs": [
    {
     "name": "stdout",
     "output_type": "stream",
     "text": [
      "mean = [1.         0.         0.33333333]\n",
      "std = [0.81649658 0.81649658 1.24721913]\n",
      "[[ 0.         -1.22474487  1.33630621]\n",
      " [ 1.22474487  0.         -0.26726124]\n",
      " [-1.22474487  1.22474487 -1.06904497]]\n",
      "[[-2.44948974  1.22474487 -0.26726124]]\n"
     ]
    }
   ],
   "source": [
    "from sklearn import preprocessing # import the preprocessing library\n",
    "import numpy as np\n",
    "\n",
    "x_train = np.array([[1, -1, 2], [2, 0, 0], [0, 1, -1]], dtype=np.float64)\n",
    "x_test = np.array([[-1, 1, 0]], dtype=np.float64)\n",
    " \n",
    "# define the normalizer\n",
    "scaler = preprocessing.StandardScaler()\n",
    "# compute the mean and the std on the training set\n",
    "scaler.fit(x_train)\n",
    "\n",
    "# print the mean\n",
    "print('mean =', scaler.mean_)  \n",
    "# print the standard deviation\n",
    "print('std =', scaler.scale_) \n",
    "\n",
    "# scaling the training data\n",
    "scaled_x_train = scaler.transform(x_train)\n",
    "print(scaled_x_train)  \n",
    "\n",
    "# scaling the test data\n",
    "scaled_x_test = scaler.transform(x_test)\n",
    "print(scaled_x_test)      "
   ]
  },
  {
   "cell_type": "markdown",
   "metadata": {
    "colab_type": "text",
    "id": "DhGRAkdCdMB5"
   },
   "source": [
    "#### $L_1$ and $L_2$ normalization\n",
    "We divide each training and test example by their norm (norm 1 or norm 2) in order to have the norm equals to 1.\n",
    "$$x{\\_}scaled_1 = \\frac{X}{\\mid\\mid X \\mid\\mid_1}, \\mid\\mid X \\mid\\mid_1 = \\sum_{i=1}^{i=n}\\mid x_i \\mid $$\n",
    "$$x{\\_}scaled_2 = \\frac{X}{\\mid\\mid X \\mid\\mid_2}, \\mid\\mid X \\mid\\mid_2 = \\sqrt{\\sum_{i=1}^{i=n} x_i ^ 2 }$$\n",
    "\n",
    "![data1.png](attachment:data1.png)\n",
    "__Left__: Original data, 2-dimensional input data. __Middle__: The data is normalized by dividing each feature vector by its $L_2$ norm. __Right__: The data is normalized by dividing each feature vector by its $L_1$ norm."
   ]
  },
  {
   "cell_type": "code",
   "execution_count": null,
   "metadata": {
    "colab": {},
    "colab_type": "code",
    "id": "_KmsyP7OdMB6",
    "outputId": "67dbc412-1af7-41ac-fde0-dde9411b6880"
   },
   "outputs": [
    {
     "name": "stdout",
     "output_type": "stream",
     "text": [
      "[[ 0.25 -0.25  0.5 ]\n",
      " [ 1.    0.    0.  ]\n",
      " [ 0.    0.5  -0.5 ]]\n",
      "[[-0.5  0.5  0. ]]\n"
     ]
    }
   ],
   "source": [
    "x_train = np.array([[1, -1, 2], [2, 0, 0], [0, 1, -1]], dtype=np.float64)\n",
    "x_test = np.array([[-1, 1, 0]], dtype=np.float64)\n",
    "\n",
    "# define the normalizer\n",
    "scaler = preprocessing.Normalizer(norm='l1') \n",
    "# scaler = preprocessing.Normalizer(norm='l2')\n",
    "scaler.fit(x_train)\n",
    "\n",
    "# scaling the training data\n",
    "scaled_x_train = scaler.transform(x_train)\n",
    "print(scaled_x_train)  \n",
    "\n",
    "# scaling the test data\n",
    "scaled_x_test = scaler.transform(x_test)\n",
    "print(scaled_x_test)      "
   ]
  },
  {
   "cell_type": "markdown",
   "metadata": {
    "colab_type": "text",
    "id": "w1nRsODddMB8"
   },
   "source": [
    "## Regression"
   ]
  },
  {
   "cell_type": "markdown",
   "metadata": {
    "colab_type": "text",
    "id": "1F43QVcYdMB9"
   },
   "source": [
    "### Linear regression\n",
    "\n",
    "We want to find some weights $W$ such that:\n",
    "$$y_{hat} = \\sum_{i=1}^{i=n}x_iw_i + b$$\n",
    "that interpolates best a set of examples ${(X_1,y_1), (X_2, y_2),..(X_n, y_n)}$\n",
    "\n",
    "In order to find this function, we will minimize the $M$ean $S$quared $E$rror value on the training set.\n",
    "\n",
    "$$MSE (y_i, y_{hat_i})  =\\sum_{i=1}^{i=n}(y_{hat_i} - y_i)^2$$\n"
   ]
  },
  {
   "cell_type": "code",
   "execution_count": null,
   "metadata": {
    "colab": {},
    "colab_type": "code",
    "id": "wYZ376PCdMB-",
    "outputId": "41b495d3-3a7c-48d0-b411-24fe8a0159b7"
   },
   "outputs": [
    {
     "data": {
      "image/png": "[encoded data removed]",
      "text/plain": [
       "<Figure size 432x288 with 1 Axes>"
      ]
     },
     "metadata": {
      "needs_background": "light",
      "tags": []
     },
     "output_type": "display_data"
    }
   ],
   "source": [
    "# Example\n",
    "# load data\n",
    "import numpy as np\n",
    "import matplotlib.pyplot as plt\n",
    "\n",
    "training_data = np.load('data/regression_training_data.npy')\n",
    "training_labels = np.load('data/regression_training_labels.npy')\n",
    "\n",
    "plt.plot(training_data, training_labels, 'o')\n",
    "plt.show()\n",
    "\n"
   ]
  },
  {
   "cell_type": "code",
   "execution_count": null,
   "metadata": {
    "colab": {},
    "colab_type": "code",
    "id": "8N_Rw8aodMCA",
    "outputId": "94f20304-9738-4a87-d76d-7bc169f733f7"
   },
   "outputs": [
    {
     "name": "stdout",
     "output_type": "stream",
     "text": [
      "the coefficient is:  [3.04918197]\n",
      "the bias is:  1.6389585049735729\n"
     ]
    },
    {
     "data": {
      "image/png": "[encoded data removed]",
      "text/plain": [
       "<Figure size 432x288 with 1 Axes>"
      ]
     },
     "metadata": {
      "needs_background": "light",
      "tags": []
     },
     "output_type": "display_data"
    }
   ],
   "source": [
    "# train a linear regression\n",
    "from sklearn.linear_model import LinearRegression\n",
    "  \n",
    "# define the model\n",
    "linear_regression_model = LinearRegression()\n",
    "\n",
    "# train the model\n",
    "linear_regression_model.fit(np.expand_dims(training_data, axis=1), training_labels)\n",
    "\n",
    "print('the coefficient is: ', linear_regression_model.coef_)\n",
    "print('the bias is: ', linear_regression_model.intercept_)\n",
    "\n",
    "X = np.linspace(1, 8, 1000) \n",
    "predicted_labels = linear_regression_model.predict(np.expand_dims(X, axis=1))\n",
    "\n",
    "plt.plot(training_data, training_labels, 'o')\n",
    "plt.plot(X, predicted_labels, 'r')\n",
    "plt.show()\n"
   ]
  },
  {
   "cell_type": "markdown",
   "metadata": {
    "colab_type": "text",
    "id": "6IAn4_fSdMCC"
   },
   "source": [
    "### Ridge regression\n",
    "\n",
    "When using Ridge regression we add a new penalty to the loss function, instead of just minimizing the difference of the output and ground-truth value, we also want the weights to be small. In order to force the weights to be small, we add the $L_2$ norm of the weights to the cost function.\n",
    "\n",
    "$$cost (y_i, y_{hat_i})  =\\sum_{i=1}^{i=n}(y_{hat_i} - y_i)^2 + \\alpha\\mid\\mid W \\mid\\mid_2$$\n",
    "\n",
    "The $\\alpha$ parameter controls how much we want the weights to be small."
   ]
  },
  {
   "cell_type": "code",
   "execution_count": null,
   "metadata": {
    "colab": {},
    "colab_type": "code",
    "id": "vE-z3Es-dMCD",
    "outputId": "b3550b31-27cc-46e4-c063-fe68a7580c9c"
   },
   "outputs": [
    {
     "name": "stdout",
     "output_type": "stream",
     "text": [
      "the coefficient is:  [3.01246677]\n",
      "the bias is:  1.8137890507035408\n"
     ]
    },
    {
     "data": {
      "image/png": "[encoded data removed]",
      "text/plain": [
       "<Figure size 432x288 with 1 Axes>"
      ]
     },
     "metadata": {
      "needs_background": "light",
      "tags": []
     },
     "output_type": "display_data"
    }
   ],
   "source": [
    "# train a ridge regression\n",
    "from sklearn.linear_model import Ridge\n",
    "  \n",
    "# define the model\n",
    "ridge_regression_model = Ridge(alpha=1) # Change alpha to 0, 1, 100 and explain the results\n",
    "\n",
    "# train the model\n",
    "ridge_regression_model.fit(np.expand_dims(training_data, axis=1), training_labels)\n",
    "\n",
    "print('the coefficient is: ', ridge_regression_model.coef_)\n",
    "print('the bias is: ', ridge_regression_model.intercept_)\n",
    "\n",
    "X = np.linspace(1, 8, 1000) \n",
    "predicted_labels = ridge_regression_model.predict(np.expand_dims(X, axis=1))\n",
    "\n",
    "plt.plot(training_data, training_labels, 'o')\n",
    "plt.plot(X, predicted_labels, 'r')\n",
    "plt.show()"
   ]
  },
  {
   "cell_type": "markdown",
   "metadata": {
    "colab_type": "text",
    "id": "b1vI3x5ydMCF"
   },
   "source": [
    "### Lasso regression\n",
    "Lasso regression adds the $L_1$ norm to the cost function.\n",
    "$$cost (y_i, y_{hat_i})  =\\sum_{i=1}^{i=n}(y_{hat_i} - y_i)^2 + \\alpha \\mid\\mid W \\mid\\mid_1$$\n"
   ]
  },
  {
   "cell_type": "code",
   "execution_count": null,
   "metadata": {
    "colab": {},
    "colab_type": "code",
    "id": "6MlYTatIdMCG",
    "outputId": "c9dc3d58-84cc-4196-bde4-47557d882a1a"
   },
   "outputs": [
    {
     "name": "stdout",
     "output_type": "stream",
     "text": [
      "the coefficient is:  [2.9882432]\n",
      "the bias is:  1.929136885691502\n"
     ]
    },
    {
     "data": {
      "image/png": "[encoded data removed]",
      "text/plain": [
       "<Figure size 432x288 with 1 Axes>"
      ]
     },
     "metadata": {
      "needs_background": "light",
      "tags": []
     },
     "output_type": "display_data"
    }
   ],
   "source": [
    "# train a lasso regression\n",
    "from sklearn.linear_model import Lasso\n",
    "  \n",
    "# define the model\n",
    "lasso_regression_model = Lasso(alpha=0.1) # Change alpha to 0, 1, 10 and explain the results\n",
    "\n",
    "# train the model\n",
    "lasso_regression_model.fit(np.expand_dims(training_data, axis=1), training_labels)\n",
    "\n",
    "print('the coefficient is: ', lasso_regression_model.coef_)\n",
    "print('the bias is: ', lasso_regression_model.intercept_)\n",
    "\n",
    "X = np.linspace(1, 8, 1000) \n",
    "predicted_labels = lasso_regression_model.predict(np.expand_dims(X, axis=1))\n",
    "\n",
    "plt.plot(training_data, training_labels, 'o')\n",
    "plt.plot(X, predicted_labels, 'r')\n",
    "plt.show()"
   ]
  },
  {
   "cell_type": "markdown",
   "metadata": {
    "colab_type": "text",
    "id": "IzNLJPESdMCJ"
   },
   "source": [
    "## Kernel Ridge Regression\n",
    "\n",
    "This algorithm combines the Ridge regression with the kernel functions.\n",
    "It minimizes the function:\n",
    "   $$(y_{hat} - y)^2 + alpha * \\mid\\mid W \\mid\\mid_2^2$$ \n",
    "   where:\n",
    "   \n",
    "   $y_{hat} = \\sum_{i=1}^{i=n}a_ik(x_i, x'),$\n",
    "   \n",
    "   $a = (K + \\lambda I_n)^{-1}y$\n",
    "   \n",
    "   $y$ - the ground truth label, \n",
    "   \n",
    "   $y_{hat}$ - the predicted label,\n",
    "   \n",
    "   $K$ - kernel function.\n",
    "   ![kernel_function.png](attachment:kernel_function.png)"
   ]
  },
  {
   "cell_type": "code",
   "execution_count": null,
   "metadata": {
    "colab": {},
    "colab_type": "code",
    "id": "zezWjcn_dMCK",
    "outputId": "da249420-85d1-4b7a-9a4b-f076ef40b4eb"
   },
   "outputs": [
    {
     "ename": "NameError",
     "evalue": "name 'alpha' is not defined",
     "output_type": "error",
     "traceback": [
      "\u001b[1;31m---------------------------------------------------------------------------\u001b[0m",
      "\u001b[1;31mNameError\u001b[0m                                 Traceback (most recent call last)",
      "\u001b[1;32m<ipython-input-1-a6f41ad576c3>\u001b[0m in \u001b[0;36m<module>\u001b[1;34m\u001b[0m\n\u001b[0;32m      5\u001b[0m \u001b[1;33m\u001b[0m\u001b[0m\n\u001b[0;32m      6\u001b[0m \u001b[1;31m# define the model\u001b[0m\u001b[1;33m\u001b[0m\u001b[1;33m\u001b[0m\u001b[0m\n\u001b[1;32m----> 7\u001b[1;33m \u001b[0mkernel_ridge_regression\u001b[0m \u001b[1;33m=\u001b[0m \u001b[0mKernelRidge\u001b[0m\u001b[1;33m(\u001b[0m\u001b[0malpha\u001b[0m\u001b[1;33m,\u001b[0m \u001b[0mkernel\u001b[0m\u001b[1;33m,\u001b[0m \u001b[0mgamma\u001b[0m\u001b[1;33m)\u001b[0m\u001b[1;33m\u001b[0m\u001b[0m\n\u001b[0m\u001b[0;32m      8\u001b[0m \u001b[1;33m\u001b[0m\u001b[0m\n\u001b[0;32m      9\u001b[0m \u001b[1;31m# train the model\u001b[0m\u001b[1;33m\u001b[0m\u001b[1;33m\u001b[0m\u001b[0m\n",
      "\u001b[1;31mNameError\u001b[0m: name 'alpha' is not defined"
     ]
    }
   ],
   "source": [
    "# don't run, it is not functional\n",
    "\n",
    "# import the model\n",
    "from sklearn.kernel_ridge import KernelRidge\n",
    "\n",
    "# define the model \n",
    "kernel_ridge_regression = KernelRidge(alpha, kernel, gamma)\n",
    "\n",
    "# train the model\n",
    "kernel_ridge_regression.fit(training_data, training_labels)\n",
    "\n",
    "# predict\n",
    "predicted_labels = kernel_ridge_regression.predict(test_data)"
   ]
  },
  {
   "cell_type": "markdown",
   "metadata": {
    "colab_type": "text",
    "id": "PheGMw4VdMCN"
   },
   "source": [
    "## Automated Essay Scoring\n",
    "\n",
    "We are going to use the Automated Essay Scoring dataset that contains essays and their marks (the marks are in the range [2, 12]). \n",
    "Our task is to train a model that predicts the mark of an essay based on its BOW representation.\n",
    "![example_aes.png](attachment:example_aes.png)\n",
    "\n",
    "This is an example of sentences from the dataset. The dataset has been processed such the sentences were splitted in words and you have a list of words for each essay saved in an numpy array."
   ]
  },
  {
   "cell_type": "code",
   "execution_count": 1,
   "metadata": {
    "colab": {},
    "colab_type": "code",
    "id": "G3NZrdDpdMCO"
   },
   "outputs": [],
   "source": [
    "import numpy as np"
   ]
  },
  {
   "cell_type": "code",
   "execution_count": 3,
   "metadata": {
    "colab": {},
    "colab_type": "code",
    "id": "QXGdi7OIdMCR",
    "outputId": "3cff949a-a992-4a92-cba7-4c081f375044"
   },
   "outputs": [
    {
     "name": "stdout",
     "output_type": "stream",
     "text": [
      "the first essay is: ['dear', 'local', 'newspaper', 'i', 'think', 'effects', 'computers', 'have', 'on', 'people', 'are', 'great', 'learning', 'skillsaffects', 'because', 'they', 'give', 'us', 'time', 'to', 'chat', 'with', 'friendsnew', 'people', 'helps', 'us', 'learn', 'about', 'the', 'globeastronomy', 'and', 'keeps', 'us', 'out', 'of', 'troble', 'thing', 'about', 'dont', 'you', 'think', 'so', 'how', 'would', 'you', 'feel', 'if', 'your', 'teenager', 'is', 'always', 'on', 'the', 'phone', 'with', 'friends', 'do', 'you', 'ever', 'time', 'to', 'chat', 'with', 'your', 'friends', 'or', 'buisness', 'partner', 'about', 'things', 'well', 'now', 'theres', 'a', 'new', 'way', 'to', 'chat', 'the', 'computer', 'theirs', 'plenty', 'of', 'sites', 'on', 'the', 'internet', 'to', 'do', 'so', '@organization1', '@organization2', '@caps1', 'facebook', 'myspace', 'ect', 'just', 'think', 'now', 'while', 'your', 'setting', 'up', 'meeting', 'with', 'your', 'boss', 'on', 'the', 'computer', 'your', 'teenager', 'is', 'having', 'fun', 'on', 'the', 'phone', 'not', 'rushing', 'to', 'get', 'off', 'cause', 'you', 'want', 'to', 'use', 'it', 'how', 'did', 'you', 'learn', 'about', 'other', 'countrysstates', 'outside', 'of', 'yours', 'well', 'i', 'have', 'by', 'computerinternet', 'its', 'a', 'new', 'way', 'to', 'learn', 'about', 'what', 'going', 'on', 'in', 'our', 'time', 'you', 'might', 'think', 'your', 'child', 'spends', 'a', 'lot', 'of', 'time', 'on', 'the', 'computer', 'but', 'ask', 'them', 'so', 'question', 'about', 'the', 'economy', 'sea', 'floor', 'spreading', 'or', 'even', 'about', 'the', '@date1s', 'youll', 'be', 'surprise', 'at', 'how', 'much', 'heshe', 'knows', 'believe', 'it', 'or', 'not', 'the', 'computer', 'is', 'much', 'interesting', 'then', 'in', 'class', 'all', 'day', 'reading', 'out', 'of', 'books', 'if', 'your', 'child', 'is', 'home', 'on', 'your', 'computer', 'or', 'at', 'a', 'local', 'library', 'its', 'better', 'than', 'being', 'out', 'with', 'friends', 'being', 'fresh', 'or', 'being', 'perpressured', 'to', 'doing', 'something', 'they', 'know', 'isnt', 'right', 'you', 'might', 'not', 'know', 'where', 'your', 'child', 'is', '@caps2', 'forbidde', 'in', 'a', 'hospital', 'bed', 'because', 'of', 'a', 'driveby', 'rather', 'than', 'your', 'child', 'on', 'the', 'computer', 'learning', 'chatting', 'or', 'just', 'playing', 'games', 'safe', 'and', 'sound', 'in', 'your', 'home', 'or', 'community', 'place', 'now', 'i', 'hope', 'you', 'have', 'reached', 'a', 'point', 'to', 'understand', 'and', 'agree', 'with', 'me', 'because', 'computers', 'can', 'have', 'great', 'effects', 'on', 'you', 'or', 'child', 'because', 'it', 'gives', 'us', 'time', 'to', 'chat', 'with', 'friendsnew', 'people', 'helps', 'us', 'learn', 'about', 'the', 'globe', 'and', 'believe', 'or', 'not', 'keeps', 'us', 'out', 'of', 'troble', 'thank', 'you', 'for', 'listening']\n"
     ]
    }
   ],
   "source": [
    "# load dataset \n",
    "training_data = np.load('data/essay_scoring/train_data.npy', allow_pickle=True)\n",
    "print('the first essay is:', training_data[0])\n",
    "train_scores = np.load('data/essay_scoring/train_scores.npy', allow_pickle=True) \n",
    "\n",
    "test_data = np.load('data/essay_scoring/test_data.npy', allow_pickle=True) \n",
    "test_scores = np.load('data/essay_scoring/test_scores.npy', allow_pickle=True) "
   ]
  },
  {
   "cell_type": "markdown",
   "metadata": {
    "colab_type": "text",
    "id": "KGQWYPDrdMCT"
   },
   "source": [
    "## Exercises"
   ]
  },
  {
   "cell_type": "markdown",
   "metadata": {
    "colab_type": "text",
    "id": "BRDjiWthdMCT"
   },
   "source": [
    "### 1. Implement the 'BagOfWords' class."
   ]
  },
  {
   "cell_type": "code",
   "execution_count": 4,
   "metadata": {
    "colab": {},
    "colab_type": "code",
    "id": "H4IUMSY9dMCU"
   },
   "outputs": [],
   "source": [
    "class BagOfWords:\n",
    "    # a. Initialize the vocabulary in the constructor (it should be empty).\n",
    "    def __init__(self):\n",
    "        self.dict = {}\n",
    "        \n",
    "    # b. Implement the 'build_vocabulary' function that takes as input the training essays (numpy array of lists) \n",
    "    # and build the vocabulary.\n",
    "    def build_dictionary(self, training_data):\n",
    "        i = 0\n",
    "        for essay in training_data:\n",
    "            for word in essay:\n",
    "                if word not in self.dict:\n",
    "                    self.dict[word] = i\n",
    "                    i += 1\n",
    "    \n",
    "    # c. Implement the 'get_features' function that takes as input the essays and returns the BOW reprezentations \n",
    "    # (it should be a matrix of NxD, where N is the number of essays and D the length of the dictionary).\n",
    "    def get_features(self, essays):\n",
    "        features = np.zeros((len(essays), len(self.dict)))\n",
    "        for i in range(len(essays)):\n",
    "            for word in essays[i]:\n",
    "                if word in self.dict:\n",
    "                    features[i, self.dict[word]] += 1\n",
    "                    \n",
    "        return features\n",
    "     "
   ]
  },
  {
   "cell_type": "markdown",
   "metadata": {
    "colab_type": "text",
    "id": "nojZErWLdMCX"
   },
   "source": [
    "### 2. Using the BagOfWords class obtain the BOW represetation for the Automated Essay Scoring dataset (training and testing set)."
   ]
  },
  {
   "cell_type": "code",
   "execution_count": 8,
   "metadata": {
    "colab": {},
    "colab_type": "code",
    "id": "71nxTG3MdMCY"
   },
   "outputs": [],
   "source": [
    "# write your code here\n",
    "bow = BagOfWords()\n",
    "bow.build_dictionary(training_data)\n",
    "train_features = bow.get_features(training_data)\n",
    "test_features = bow.get_features(test_data)"
   ]
  },
  {
   "cell_type": "markdown",
   "metadata": {
    "colab_type": "text",
    "id": "5Jjgagg3dMCb"
   },
   "source": [
    "### 3. Normalize the features from the previous exercise using L2 norm."
   ]
  },
  {
   "cell_type": "code",
   "execution_count": 9,
   "metadata": {
    "colab": {},
    "colab_type": "code",
    "id": "lmDJfui2dMCb"
   },
   "outputs": [],
   "source": [
    "# write your code here\n",
    "from sklearn import preprocessing\n",
    "\n",
    "scaler = preprocessing.Normalizer(norm='l2')\n",
    "\n",
    "scaler.fit(train_features)\n",
    "transformed_training = scaler.transform(train_features)\n",
    "transformed_test = scaler.transform(test_features)\n"
   ]
  },
  {
   "cell_type": "markdown",
   "metadata": {
    "colab_type": "text",
    "id": "zgqxk_qgdMCe"
   },
   "source": [
    "### 4. Train a KRR model using the previous features (and the labels loaded earlier) with the following paramaters:\n",
    "    - kernel: rbf, linear\n",
    "    - alpha: 10 ** -4\n",
    "### Compute the MSE and MAE values on the training and testing set. Which kernel obtains better results?"
   ]
  },
  {
   "cell_type": "code",
   "execution_count": 10,
   "metadata": {
    "colab": {},
    "colab_type": "code",
    "id": "7PGll9f_dMCe"
   },
   "outputs": [],
   "source": [
    "from sklearn.metrics import mean_squared_error, mean_absolute_error # use this function to compute MSE, MAE\n",
    "# write your code here\n",
    "# import the model\n",
    "from sklearn.kernel_ridge import KernelRidge\n",
    "\n",
    "# define the model \n",
    "kernel_ridge_regression = KernelRidge(alpha=10 ** (-4), kernel='linear')\n",
    "\n",
    "# train the model\n",
    "kernel_ridge_regression.fit(transformed_training, train_scores)\n",
    "\n",
    "# predict\n",
    "predicted_labels = kernel_ridge_regression.predict(transformed_test)"
   ]
  },
  {
   "cell_type": "code",
   "execution_count": 11,
   "metadata": {
    "colab": {},
    "colab_type": "code",
    "id": "7PGll9f_dMCe"
   },
   "outputs": [
    {
     "name": "stdout",
     "output_type": "stream",
     "text": [
      "1.635640503768386\n",
      "1.0355188792052679\n"
     ]
    }
   ],
   "source": [
    "print(mean_squared_error(predicted_labels, test_scores))\n",
    "print(mean_absolute_error(predicted_labels, test_scores))\n",
    "      "
   ]
  },
  {
   "cell_type": "markdown",
   "metadata": {
    "colab_type": "text",
    "id": "tf86q6UWdMCh"
   },
   "source": [
    "# Read the Lab 3-SVM notebook then continue the below exercises."
   ]
  },
  {
   "cell_type": "markdown",
   "metadata": {
    "colab_type": "text",
    "id": "9s0JF4HidMCh"
   },
   "source": [
    "### 5. Now, we want to classify the essays in 2 classes (bad essays and good essays), in order to do that we will transform the score labels in -1 (bad) or 1 (good). An essay receives the labels -1 if its score is lower than 7, otherwise receives 1."
   ]
  },
  {
   "cell_type": "code",
   "execution_count": null,
   "metadata": {
    "colab": {},
    "colab_type": "code",
    "id": "aV2Mq3OHdMCi"
   },
   "outputs": [],
   "source": [
    "# write your code here\n",
    "# transform the training and test labels\n"
   ]
  },
  {
   "cell_type": "markdown",
   "metadata": {
    "colab_type": "text",
    "id": "1qp3JV1IdMCk"
   },
   "source": [
    "### 6. Write the function _svm${\\_}$classifier_ that takes as input:\n",
    "    - the training data\n",
    "    - the training labels\n",
    "    - the test data\n",
    "    - the C parameter \n",
    "    - the kernel function (as a string 'rbf' or 'linear') \n",
    "### and returns the predicted labels on the training and testing set."
   ]
  },
  {
   "cell_type": "code",
   "execution_count": null,
   "metadata": {
    "colab": {},
    "colab_type": "code",
    "id": "3r0xSbwddMCl"
   },
   "outputs": [],
   "source": [
    "# write your code here"
   ]
  },
  {
   "cell_type": "markdown",
   "metadata": {
    "colab_type": "text",
    "id": "le9879GEdMCs"
   },
   "source": [
    "### 7. Using the previous function and the Automated Essay Scoring dataset (with binary labels), plot the accuracy on the training and testing set. To train the SVM models use the following parameters:\n",
    "    - scale the data using L2 normalization (if you did ex 3, the data is already normalized)\n",
    "    - linear kernel\n",
    "    - C = [1e-2, 1, 100, 1000]\n",
    "Plot the C parameters on the OX axis using log10(C) and the accuracies (training and testing) on the OY axis."
   ]
  },
  {
   "cell_type": "code",
   "execution_count": null,
   "metadata": {
    "colab": {},
    "colab_type": "code",
    "id": "LyS-oiXAdMCu"
   },
   "outputs": [],
   "source": [
    "from sklearn.metrics import accuracy_score # use this function to compute the accuracy\n",
    "import matplotlib.pyplot as plt"
   ]
  },
  {
   "cell_type": "code",
   "execution_count": null,
   "metadata": {
    "colab": {},
    "colab_type": "code",
    "id": "kEP3Cp-gdMCw"
   },
   "outputs": [],
   "source": [
    "# write your code here \n",
    "\n",
    "\n",
    "plt.legend(['train','test'])\n",
    "plt.xlabel('log10(C)')\n",
    "plt.ylabel('accuracy')\n",
    "plt.show()"
   ]
  }
 ],
 "metadata": {
  "colab": {
   "name": "Lab 3 - KRR.ipynb",
   "provenance": []
  },
  "kernelspec": {
   "display_name": "Python 3",
   "language": "python",
   "name": "python3"
  },
  "language_info": {
   "codemirror_mode": {
    "name": "ipython",
    "version": 3
   },
   "file_extension": ".py",
   "mimetype": "text/x-python",
   "name": "python",
   "nbconvert_exporter": "python",
   "pygments_lexer": "ipython3",
   "version": "3.8.8"
  }
 },
 "nbformat": 4,
 "nbformat_minor": 4
}
